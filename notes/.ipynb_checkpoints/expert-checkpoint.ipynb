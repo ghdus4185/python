{
 "cells": [
  {
   "cell_type": "code",
   "execution_count": 2,
   "metadata": {},
   "outputs": [
    {
     "name": "stdout",
     "output_type": "stream",
     "text": [
      "1\n",
      "1\n"
     ]
    }
   ],
   "source": [
    "#간단한 N의 약수\n",
    "N = int(input())\n",
    "result = []\n",
    "for n in range(1,N+1):\n",
    "    if N % n == 0:\n",
    "        result.append(n)\n",
    "    result = list(map(str,result))\n",
    "    a = ' '.join(result)\n",
    "print(a)"
   ]
  },
  {
   "cell_type": "code",
   "execution_count": 3,
   "metadata": {},
   "outputs": [
    {
     "name": "stdout",
     "output_type": "stream",
     "text": [
      "#++++\n",
      "+#+++\n",
      "++#++\n",
      "+++#+\n",
      "++++#\n"
     ]
    }
   ],
   "source": [
    "#대각선 출력하기\n",
    "for i in range(5):\n",
    "    for j in range(5):\n",
    "        if j == i:\n",
    "            print('#',end='')\n",
    "        else:\n",
    "            print('+',end='')\n",
    "    print()"
   ]
  },
  {
   "cell_type": "code",
   "execution_count": null,
   "metadata": {},
   "outputs": [],
   "source": [
    "#몫과 나머지 출력하기\n",
    "t = input()\n",
    "for i in range(1,int(t)+1):\n",
    "    tc = input()\n",
    "    a = list(map(int,tc.split(' ')))\n",
    "    b = a[0] // a[1]\n",
    "    c = a[0] % a[1]\n",
    "    print(f'#{i} {b} {c}')"
   ]
  },
  {
   "cell_type": "code",
   "execution_count": null,
   "metadata": {},
   "outputs": [],
   "source": [
    "#거꾸로 출력해 보아요\n",
    "a = int(input())\n",
    "for i in range(a,-1,-1):\n",
    "    print(i,end=' ')"
   ]
  },
  {
   "cell_type": "code",
   "execution_count": null,
   "metadata": {},
   "outputs": [],
   "source": [
    "#더블더블\n",
    "a = int(input())\n",
    "for i in range(1,a+2):\n",
    "    b = 1 * (2**(i-1))\n",
    "    print(b, end=' ')"
   ]
  },
  {
   "cell_type": "code",
   "execution_count": null,
   "metadata": {},
   "outputs": [],
   "source": [
    "#연월일 달력\n",
    "t = int(input())\n",
    "se = '02'\n",
    "tre = \"'04', '06', '09', '11'\"\n",
    "treo = \"'01', '03', '05', '07', '08', '10', '12'\"\n",
    "for i in range(1,t+1):\n",
    "    day = input()\n",
    "    if day[4:6] in se and 1 <= int(day[6:]) <= 28:\n",
    "        print(f'#{i} {day[0:4]}/{day[4:6]}/{day[6:]}')\n",
    "    elif day[4:6] in tre and 1 <= int(day[6:]) <= 30:\n",
    "        print(f'#{i} {day[0:4]}/{day[4:6]}/{day[6:]}')\n",
    "    elif day[4:6] in treo and 1 <= int(day[6:]) <= 31:\n",
    "        print(f'#{i} {day[0:4]}/{day[4:6]}/{day[6:]}')\n",
    "    else:\n",
    "        print(f'#{i} -1')"
   ]
  },
  {
   "cell_type": "code",
   "execution_count": null,
   "metadata": {},
   "outputs": [],
   "source": [
    "#간단한 소인수 분해\n",
    "t = int(input())\n",
    "for i in range(1,t+1):\n",
    "    N = int(input())\n",
    "    cnt = 0\n",
    "#     N = 2**a * 3**b * 5**c 7**d * 11**e\n",
    "    while N % 2 == 0:\n",
    "        N = N / 2\n",
    "        cnt += 1\n",
    "    a = cnt\n",
    "    cnt = 0\n",
    "    while N % 3 == 0:\n",
    "        N = N / 3\n",
    "        cnt += 1\n",
    "    b = cnt\n",
    "    cnt = 0\n",
    "    while N % 5 == 0:\n",
    "        N = N / 5\n",
    "        cnt += 1\n",
    "    c = cnt\n",
    "    cnt = 0\n",
    "    while N % 7 == 0:\n",
    "        N = N / 7\n",
    "        cnt += 1\n",
    "    d = cnt\n",
    "    cnt = 0\n",
    "    while N % 11 == 0:\n",
    "        N = N / 11\n",
    "        cnt += 1\n",
    "    e = cnt\n",
    "    cnt = 0\n",
    "    print(f'#{i} {a} {b} {c} {d} {e}')"
   ]
  },
  {
   "cell_type": "code",
   "execution_count": null,
   "metadata": {},
   "outputs": [],
   "source": [
    "t = int(input())\n",
    "for i in range(1,t+1):\n",
    "    a = input()\n",
    "    b = input()\n",
    "    c = input()\n",
    "    nm = list(map(int,a.split(' ')))\n",
    "    n = nm[0]\n",
    "    m = nm[1]"
   ]
  },
  {
   "cell_type": "code",
   "execution_count": null,
   "metadata": {},
   "outputs": [],
   "source": [
    "#숫자를 정렬하자\n",
    "t = int(input())\n",
    "for i in range(1,t+1):\n",
    "    a = input()\n",
    "    b = input()\n",
    "    test_list = list(map(int,b.split(\" \")))\n",
    "    c = sorted(test_list)\n",
    "    c = list(map(str,c))\n",
    "    res = ' '.join(c)\n",
    "    print(f'#{i} {res}')"
   ]
  },
  {
   "cell_type": "code",
   "execution_count": null,
   "metadata": {},
   "outputs": [],
   "source": [
    "# 두 개의 숫자열\n",
    "a = int(input())\n",
    "for i in range(a):\n",
    "    b = input()\n",
    "    c = input()\n",
    "    d = input()\n",
    "    ai = list(map(int,c.split(' ')))\n",
    "    bj = list(map(int,d.split(' ')))\n",
    "#     [1,5,3]\n",
    "#     [3,6,-7,5,4]\n",
    "    result_list = []\n",
    "    for j in range(abs(len(bj)-len(ai))+1):\n",
    "        if len(ai) < len(bj):\n",
    "            result = ai[j]*bj[j] + ai[1] * bj[j+1] + ai[2] * bj[j+2]\n",
    "            result_list.append(result)\n",
    "print(result_list)"
   ]
  },
  {
   "cell_type": "code",
   "execution_count": null,
   "metadata": {},
   "outputs": [],
   "source": [
    "#지그재그 숫자\n",
    "a = int(input())\n",
    "result = 0\n",
    "for i in range(1,a+1):\n",
    "    b = int(input())\n",
    "    for j in range(1,b+1):\n",
    "        if j % 2 == 1:\n",
    "            result = result + j\n",
    "        else:\n",
    "            result = result - j\n",
    "    print(f'#{i} {result}')\n",
    "    result = 0"
   ]
  },
  {
   "cell_type": "code",
   "execution_count": null,
   "metadata": {},
   "outputs": [],
   "source": [
    "# 초심자의 회문 검사\n",
    "a = int(input())\n",
    "for i in range(1,a+1):\n",
    "    word = input()\n",
    "    if word == word[::-1]:\n",
    "        print(f'#{i} 1')\n",
    "    else:\n",
    "        print(f'#{i} 0')\n",
    "        "
   ]
  },
  {
   "cell_type": "code",
   "execution_count": null,
   "metadata": {},
   "outputs": [],
   "source": [
    "# base64decoder\n",
    "base64_dict = {\n",
    "    'A': 0, 'I': 8, 'Q': 16, 'Y': 24, 'g': 32, 'o': 40, 'w': 48, '4': 56,\n",
    "    'B': 1, 'J': 9, 'R': 17, 'Z': 25, 'h': 33, 'p': 41, 'x': 49, '5': 57,\n",
    "    'C': 2, 'K': 10, 'S': 18, 'a': 26, 'i': 34, 'q': 42, 'y': 50, '6': 58,\n",
    "    'D': 3, 'L': 11, 'T': 19, 'b': 27, 'j': 35, 'r': 43, 'z': 51, '7': 59,\n",
    "    'E': 4, 'M': 12, 'U': 20, 'c': 28, 'k': 36, 's': 44, '0': 52, '8': 60,\n",
    "    'F': 5, 'N': 13, 'V': 21, 'd': 29, 'l': 37, 't': 45, '1': 53, '9': 61,\n",
    "    'G': 6, 'O': 14, 'W': 22, 'e': 30, 'm': 38, 'u': 46, '2': 54, '+': 62,\n",
    "    'H': 7, 'P': 15, 'X': 23, 'f': 31, 'n': 39, 'v': 47, '3': 55, '/': 63\n",
    "}\n",
    "\n",
    "for key,val in base64_dict.items():\n",
    "    print(key, val)"
   ]
  },
  {
   "cell_type": "code",
   "execution_count": null,
   "metadata": {},
   "outputs": [],
   "source": [
    "#시각 덧셈\n",
    "a = int(input())\n",
    "for i in range(1,a+1):\n",
    "    b = input()\n",
    "    time = list(map(int,(b.split(' '))))\n",
    "    result_h = time[0]+time[2]\n",
    "    if result_h >= 12:\n",
    "        result_h = result_h - 12\n",
    "    result_m = time[1]+time[3]\n",
    "    if result_m >= 60:\n",
    "        result_m = result_m - 60\n",
    "        result_h = result_h + 1\n",
    "    print(f'#{i} {result_h} {result_m}')"
   ]
  },
  {
   "cell_type": "code",
   "execution_count": null,
   "metadata": {},
   "outputs": [],
   "source": [
    "#쉬운 거스름돈\n",
    "a = int(input())\n",
    "for i in range(1,a+1):\n",
    "    money = int(input())\n",
    "    a = 0\n",
    "    b = 0\n",
    "    c = 0\n",
    "    d = 0\n",
    "    e = 0\n",
    "    f = 0\n",
    "    g = 0\n",
    "    h = 0\n",
    "    a = money // 50000\n",
    "    money = money % 50000\n",
    "    b = money // 10000\n",
    "    money = money % 10000\n",
    "    c = money // 5000\n",
    "    money = money % 5000\n",
    "    d = money // 1000\n",
    "    money = money % 1000\n",
    "    e = money // 500\n",
    "    money = money % 500\n",
    "    f = money // 100\n",
    "    money = money % 100\n",
    "    g = money // 50\n",
    "    money = money % 50\n",
    "    h = money // 10\n",
    "    money = money % 10\n",
    "    print(f'#{i}')\n",
    "    print(f'{a} {b} {c} {d} {e} {f} {g} {h}')\n",
    "        "
   ]
  },
  {
   "cell_type": "code",
   "execution_count": null,
   "metadata": {},
   "outputs": [],
   "source": [
    "#파리퇴치\n",
    "for t in range(int(input())):\n",
    "    a, b = map(int, input().split())\n",
    "    count = a-b+1\n",
    "    result = []\n",
    "    for i in range(a):\n",
    "        num = list(map(int, input().split()))\n",
    "        result.append(num)\n",
    "    lists = []\n",
    "    for j in range(count):\n",
    "        for r in range(count):\n",
    "            total = 0\n",
    "            for s in range(0, b):\n",
    "                total += sum(result[j+s][r:r+b])\n",
    "            lists.append(total)\n",
    "    print(f'#{t+1} {max(lists)}')"
   ]
  },
  {
   "cell_type": "code",
   "execution_count": null,
   "metadata": {},
   "outputs": [],
   "source": [
    "#파리퇴치\n",
    "a = int(input())\n",
    "for i in range(1,a+1):\n",
    "    b = input()\n",
    "    c = list(map(int,b.split(' ')))\n",
    "    for j in range(c[0]):\n",
    "        \n",
    "    \n",
    "    \n",
    "    for k in range(c[1]):"
   ]
  },
  {
   "cell_type": "code",
   "execution_count": 17,
   "metadata": {},
   "outputs": [
    {
     "name": "stdout",
     "output_type": "stream",
     "text": [
      "5\n",
      "1\n",
      "#1 10\n",
      "2\n",
      "#2 90\n",
      "11\n",
      "#3 110\n",
      "1295\n",
      "#4 6475\n",
      "1692\n",
      "#5 5076\n"
     ]
    }
   ],
   "source": [
    "#새로운 불면증 치료법\n",
    "num = 0\n",
    "for i in range(int(input())):\n",
    "    n = int(input())\n",
    "    sheep=set()\n",
    "    cnt = 1\n",
    "    num +=1\n",
    "    while sheep != {'0', '1', '2', '3', '4', '5', '6', '7', '8', '9'}:\n",
    "        k=str(n*cnt)\n",
    "        z=(' '.join(k)).split(' ')\n",
    "        for i in z:\n",
    "            if i not in sheep:\n",
    "                sheep.add(i)\n",
    "        cnt += 1\n",
    "    print(f'#{(num)} {(cnt-1)*n}')"
   ]
  },
  {
   "cell_type": "code",
   "execution_count": 19,
   "metadata": {},
   "outputs": [
    {
     "name": "stdout",
     "output_type": "stream",
     "text": [
      "['1', '2', '3', '4']\n"
     ]
    }
   ],
   "source": [
    "# int형 1234를 list형 ['1', '2', '3', '4']으로 바꿀 수 있다.\n",
    "k= str(1234)\n",
    "k = ' '.join(k)\n",
    "z= k.split(' ')\n",
    "print(z)"
   ]
  },
  {
   "cell_type": "code",
   "execution_count": 18,
   "metadata": {},
   "outputs": [
    {
     "data": {
      "text/plain": [
       "False"
      ]
     },
     "execution_count": 18,
     "metadata": {},
     "output_type": "execute_result"
    }
   ],
   "source": [
    "#리스트는 같은 값이 들어있어도 index가 다르면 다른 리스트로 본다\n",
    "a = ['1', '2', '3', '4', '5', '6', '7', '8', '9', '0']\n",
    "b = ['0', '1', '2', '3', '4', '5', '6', '7', '8', '9']\n",
    "a == b"
   ]
  },
  {
   "cell_type": "code",
   "execution_count": 44,
   "metadata": {},
   "outputs": [
    {
     "name": "stdout",
     "output_type": "stream",
     "text": [
      "1\n",
      "1\n"
     ]
    },
    {
     "ename": "IndexError",
     "evalue": "list index out of range",
     "output_type": "error",
     "traceback": [
      "\u001b[1;31m---------------------------------------------------------------------------\u001b[0m",
      "\u001b[1;31mIndexError\u001b[0m                                Traceback (most recent call last)",
      "\u001b[1;32m<ipython-input-44-a2eb70946430>\u001b[0m in \u001b[0;36m<module>\u001b[1;34m\u001b[0m\n\u001b[0;32m      4\u001b[0m     \u001b[0mcondition\u001b[0m \u001b[1;33m=\u001b[0m \u001b[0mlist\u001b[0m\u001b[1;33m(\u001b[0m\u001b[0mmap\u001b[0m\u001b[1;33m(\u001b[0m\u001b[0mint\u001b[0m\u001b[1;33m,\u001b[0m\u001b[0mconditions\u001b[0m\u001b[1;33m.\u001b[0m\u001b[0msplit\u001b[0m\u001b[1;33m(\u001b[0m\u001b[1;34m' '\u001b[0m\u001b[1;33m)\u001b[0m\u001b[1;33m)\u001b[0m\u001b[1;33m)\u001b[0m\u001b[1;33m\u001b[0m\u001b[1;33m\u001b[0m\u001b[0m\n\u001b[0;32m      5\u001b[0m     \u001b[0mp\u001b[0m \u001b[1;33m=\u001b[0m \u001b[0mcondition\u001b[0m\u001b[1;33m[\u001b[0m\u001b[1;36m0\u001b[0m\u001b[1;33m]\u001b[0m\u001b[1;33m\u001b[0m\u001b[1;33m\u001b[0m\u001b[0m\n\u001b[1;32m----> 6\u001b[1;33m     \u001b[0mq\u001b[0m \u001b[1;33m=\u001b[0m \u001b[0mcondition\u001b[0m\u001b[1;33m[\u001b[0m\u001b[1;36m1\u001b[0m\u001b[1;33m]\u001b[0m\u001b[1;33m\u001b[0m\u001b[1;33m\u001b[0m\u001b[0m\n\u001b[0m\u001b[0;32m      7\u001b[0m     \u001b[0mr\u001b[0m \u001b[1;33m=\u001b[0m \u001b[0mcondition\u001b[0m\u001b[1;33m[\u001b[0m\u001b[1;36m2\u001b[0m\u001b[1;33m]\u001b[0m\u001b[1;33m\u001b[0m\u001b[1;33m\u001b[0m\u001b[0m\n\u001b[0;32m      8\u001b[0m     \u001b[0ms\u001b[0m \u001b[1;33m=\u001b[0m \u001b[0mcondition\u001b[0m\u001b[1;33m[\u001b[0m\u001b[1;36m3\u001b[0m\u001b[1;33m]\u001b[0m\u001b[1;33m\u001b[0m\u001b[1;33m\u001b[0m\u001b[0m\n",
      "\u001b[1;31mIndexError\u001b[0m: list index out of range"
     ]
    }
   ],
   "source": [
    "#수도 요금 경쟁\n",
    "for i in range(int(input())):\n",
    "    conditions = input()\n",
    "    condition = list(map(int,conditions.split(' ')))\n",
    "    p = condition[0]\n",
    "    q = condition[1]\n",
    "    r = condition[2]\n",
    "    s = condition[3]\n",
    "    w = condition[4]\n",
    "    a = w * p\n",
    "    if w <= r:\n",
    "        b = q\n",
    "    else:\n",
    "        b = q + ((w-r) * s)\n",
    "    result = min(a,b)\n",
    "    print(f'#{i+1} {result}')"
   ]
  },
  {
   "cell_type": "code",
   "execution_count": 57,
   "metadata": {},
   "outputs": [
    {
     "name": "stdout",
     "output_type": "stream",
     "text": [
      "1\n",
      "2\n",
      "1 2\n",
      "2 1\n",
      "#1 3\n"
     ]
    }
   ],
   "source": [
    "#가라 RC카\n",
    "for i in range(int(input())):\n",
    "    din_list = []\n",
    "    n = int(input())\n",
    "    speed = 0\n",
    "    distance = 0\n",
    "    for j in range(n):\n",
    "        first = input()\n",
    "        first_cnd = list(map(int,first.split(' ')))\n",
    "        if first_cnd[0] == 0:\n",
    "            command = 0\n",
    "            upspeed = 0\n",
    "        else:\n",
    "            command = first_cnd[0]\n",
    "            upspeed = first_cnd[1]\n",
    "        if command == 1:\n",
    "            speed = speed + upspeed\n",
    "        elif command ==2:\n",
    "            if speed < upspeed:\n",
    "                speed = 0\n",
    "            else:\n",
    "                speed = speed - upspeed\n",
    "        else:\n",
    "            speed=speed\n",
    "        distance = distance + speed\n",
    "    print(f'#{i+1} {distance}')"
   ]
  },
  {
   "cell_type": "code",
   "execution_count": null,
   "metadata": {},
   "outputs": [],
   "source": [
    "T = int(input())\n",
    "for t in range(1, T+1):\n",
    "    n = int(input())\n",
    "    now = 0\n",
    "    move = 0\n",
    "    for cnt in range(1, n+1):\n",
    "        com = [int(i) for i in input().split()]\n",
    "        if com[0] == 0:\n",
    "            c = 0\n",
    "            uspeed = 0\n",
    "        else:\n",
    "            c = com[0]\n",
    "            uspeed = com[1]\n",
    "        if c == 1:\n",
    "            now = now + uspeed\n",
    "        elif c == 2:\n",
    "            if now < uspeed:\n",
    "                now = 0\n",
    "            else :\n",
    "                now = now - uspeed\n",
    "        else:\n",
    "            now = now\n",
    "        move = move + now\n",
    "    print(f\"#{t} {move}\")"
   ]
  }
 ],
 "metadata": {
  "kernelspec": {
   "display_name": "Python 3",
   "language": "python",
   "name": "python3"
  },
  "language_info": {
   "codemirror_mode": {
    "name": "ipython",
    "version": 3
   },
   "file_extension": ".py",
   "mimetype": "text/x-python",
   "name": "python",
   "nbconvert_exporter": "python",
   "pygments_lexer": "ipython3",
   "version": "3.7.3"
  }
 },
 "nbformat": 4,
 "nbformat_minor": 2
}
