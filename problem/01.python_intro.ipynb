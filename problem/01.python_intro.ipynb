{
 "cells": [
  {
   "cell_type": "code",
   "execution_count": null,
   "metadata": {},
   "outputs": [],
   "source": [
    "def mysum():\n",
    "    \"\"\"\"\n",
    "    이것은 덧셈 함수입니다.\n",
    "    이 줄은 실행 안됨\n",
    "    다만 docstring인 이유는 있습니다.\n",
    "    \"\"\"\n",
    "    print(\"더했다!!!\")\n",
    "\n",
    "mysum()\n",
    "mysum.__doc__"
   ]
  },
  {
   "cell_type": "code",
   "execution_count": null,
   "metadata": {},
   "outputs": [],
   "source": [
    "print('hello');print('hihi')"
   ]
  },
  {
   "cell_type": "code",
   "execution_count": null,
   "metadata": {},
   "outputs": [],
   "source": [
    "print('\\\n",
    "asdf')"
   ]
  },
  {
   "cell_type": "code",
   "execution_count": null,
   "metadata": {},
   "outputs": [],
   "source": [
    "lunch = [\n",
    "    '조치원짬뽕',\n",
    "    '초밥',\n",
    "    '김피탕',\n",
    "    '치즈볶음밥'\n",
    "]\n",
    "print(lunch)\n",
    "print(type(lunch))"
   ]
  },
  {
   "cell_type": "code",
   "execution_count": null,
   "metadata": {},
   "outputs": [],
   "source": [
    "# 변수는 = 을 통해 할당 된다.\n",
    "# type() 해당 자료형을 확인하기\n",
    "# id() 해당 변수의 메모리 주소를 확인하기"
   ]
  },
  {
   "cell_type": "code",
   "execution_count": null,
   "metadata": {},
   "outputs": [],
   "source": [
    "name = 'hoyeon'\n",
    "print('hoyeon')\n",
    "print(type(name))\n",
    "print(id(name))"
   ]
  },
  {
   "cell_type": "code",
   "execution_count": null,
   "metadata": {},
   "outputs": [],
   "source": [
    "x = 1\n",
    "y = 2\n",
    "z = 3\n",
    "a = 4\n",
    "print(a, x, y, z)\n",
    "type(x)"
   ]
  },
  {
   "cell_type": "code",
   "execution_count": null,
   "metadata": {},
   "outputs": [],
   "source": [
    "x,y = 1, 2, 3"
   ]
  },
  {
   "cell_type": "code",
   "execution_count": null,
   "metadata": {},
   "outputs": [],
   "source": [
    "print(x, y)\n",
    "x, y = y, x\n",
    "print(x, y)"
   ]
  },
  {
   "cell_type": "code",
   "execution_count": null,
   "metadata": {},
   "outputs": [],
   "source": [
    "a = 2\n",
    "print(a**100)\n",
    "type(a**156)\n"
   ]
  },
  {
   "cell_type": "markdown",
   "metadata": {},
   "source": [
    "#### overflow\n",
    " 데이터 타입 별로 사용할 수 있는 메모리의 크기가 제한되어 있다.\n",
    " 표현할 수 있는 수의 범위를 넘어가는 연산을 하게 되면, 기대했던 각ㅄ이 출력되지 않는 현상, 즉 메모리가 차고 넘쳐 흐르는 현상\n",
    "#### arbitrary-precision arithmetic\n",
    " - 파이썬에서 아주 큰 정수를 표현할 떄 사용하는 메모리의 크기 변화\n",
    " - 사용할 수 있는 메모리양이 정해져 있는 기존의 방식과 달리, 현재 남아있는 만큼의 가용 메모리를 모두 수 표현에 끌어다 쓸 수 있는 형태\n",
    " - 특정 값을 나타내는데 4바이트가 부족하다면 5바이트, 더 부족하다면 6바이트까지 사용 할 수 있게 유동적으로 운용.\n"
   ]
  },
  {
   "cell_type": "code",
   "execution_count": 3,
   "metadata": {},
   "outputs": [
    {
     "name": "stdout",
     "output_type": "stream",
     "text": [
      "9223372036854775807\n",
      "9223372036854775807\n",
      "85070591730234615847396907784232501249\n",
      "7237005577332262210834635695349653859421902880380109739573089701262786560001\n"
     ]
    }
   ],
   "source": [
    "#파이썬에서 가장 큰 숫자를 활용하기 위해 sys 모듈을 불러 옵니다.\n",
    "#파이썬은 기존 C계열 프로그래밍 언어와 다르게 정수 자료형에서 오버플로우가 없다.\n",
    "# arbitrary-precision arithmetic를 사용하기 때문이다.\n",
    "import sys\n",
    "max_int = sys.maxsize\n",
    "print(max_int)\n",
    "print(2**63-1)\n",
    "super_max = max_int*max_int\n",
    "print(super_max)\n",
    "hyper_max = super_max*super_max\n",
    "print(hyper_max)"
   ]
  },
  {
   "cell_type": "code",
   "execution_count": 5,
   "metadata": {},
   "outputs": [
    {
     "data": {
      "text/plain": [
       "float"
      ]
     },
     "execution_count": 5,
     "metadata": {},
     "output_type": "execute_result"
    }
   ],
   "source": [
    "a = 3.14\n",
    "type(a)"
   ]
  },
  {
   "cell_type": "code",
   "execution_count": 10,
   "metadata": {},
   "outputs": [
    {
     "name": "stdout",
     "output_type": "stream",
     "text": [
      "<class 'float'>\n",
      "123.124\n"
     ]
    }
   ],
   "source": [
    "b = 123124e-3\n",
    "print(type(b))\n",
    "print(b)"
   ]
  },
  {
   "cell_type": "code",
   "execution_count": 16,
   "metadata": {},
   "outputs": [
    {
     "data": {
      "text/plain": [
       "1.99"
      ]
     },
     "execution_count": 16,
     "metadata": {},
     "output_type": "execute_result"
    }
   ],
   "source": [
    "round(5.1 - 3.11,2)"
   ]
  },
  {
   "cell_type": "code",
   "execution_count": 21,
   "metadata": {},
   "outputs": [
    {
     "data": {
      "text/plain": [
       "True"
      ]
     },
     "execution_count": 21,
     "metadata": {},
     "output_type": "execute_result"
    }
   ],
   "source": [
    "a = 5.1-3.11\n",
    "b = 1.99\n",
    "abs(a-b) <= 1e-10"
   ]
  },
  {
   "cell_type": "code",
   "execution_count": 23,
   "metadata": {},
   "outputs": [
    {
     "data": {
      "text/plain": [
       "True"
      ]
     },
     "execution_count": 23,
     "metadata": {},
     "output_type": "execute_result"
    }
   ],
   "source": [
    "import math\n",
    "math.isclose(a,b)"
   ]
  },
  {
   "cell_type": "code",
   "execution_count": 25,
   "metadata": {},
   "outputs": [
    {
     "data": {
      "text/plain": [
       "complex"
      ]
     },
     "execution_count": 25,
     "metadata": {},
     "output_type": "execute_result"
    }
   ],
   "source": [
    "a = 3-4j\n",
    "type(a)"
   ]
  },
  {
   "cell_type": "code",
   "execution_count": 31,
   "metadata": {},
   "outputs": [
    {
     "name": "stdout",
     "output_type": "stream",
     "text": [
      "-4.0\n",
      "3.0\n",
      "(3+4j)\n"
     ]
    }
   ],
   "source": [
    "print(a.imag)\n",
    "print(a.real)\n",
    "print(a.conjugate())"
   ]
  },
  {
   "cell_type": "code",
   "execution_count": 34,
   "metadata": {},
   "outputs": [
    {
     "name": "stdout",
     "output_type": "stream",
     "text": [
      "<class 'bool'>\n"
     ]
    },
    {
     "data": {
      "text/plain": [
       "bool"
      ]
     },
     "execution_count": 34,
     "metadata": {},
     "output_type": "execute_result"
    }
   ],
   "source": [
    "print(type(True))\n",
    "type(False)"
   ]
  },
  {
   "cell_type": "code",
   "execution_count": 36,
   "metadata": {},
   "outputs": [
    {
     "name": "stdout",
     "output_type": "stream",
     "text": [
      "False\n",
      "True\n",
      "False\n",
      "True\n",
      "True\n",
      "False\n",
      "True\n",
      "False\n"
     ]
    }
   ],
   "source": [
    "print(bool(0))\n",
    "print(bool(1))\n",
    "print(bool(False))\n",
    "print(bool(True))\n",
    "print(bool([1,2,3]))\n",
    "print(bool([]))\n",
    "print(bool('asdf'))\n",
    "print(bool(''))"
   ]
  },
  {
   "cell_type": "code",
   "execution_count": 38,
   "metadata": {},
   "outputs": [
    {
     "name": "stdout",
     "output_type": "stream",
     "text": [
      "<class 'str'>\n"
     ]
    }
   ],
   "source": [
    "a = 'hello'\n",
    "print(type(a))"
   ]
  },
  {
   "cell_type": "code",
   "execution_count": 41,
   "metadata": {},
   "outputs": [
    {
     "name": "stdout",
     "output_type": "stream",
     "text": [
      "123\n",
      "123\n",
      "<class 'str'>\n"
     ]
    }
   ],
   "source": [
    "age = input()\n",
    "print(age)\n",
    "print(type(age))"
   ]
  },
  {
   "cell_type": "code",
   "execution_count": 43,
   "metadata": {},
   "outputs": [
    {
     "name": "stdout",
     "output_type": "stream",
     "text": [
      "엄마가 말했다.'호연아 밥먹어라!!!!'\n"
     ]
    }
   ],
   "source": [
    "print('엄마가 말했다.\\'호연아 밥먹어라!!!!\\'')"
   ]
  },
  {
   "cell_type": "code",
   "execution_count": 45,
   "metadata": {},
   "outputs": [
    {
     "name": "stdout",
     "output_type": "stream",
     "text": [
      "\n",
      "첫번째 문장\n",
      "두번째 문장\n",
      "세번째 문장\n",
      "\n"
     ]
    }
   ],
   "source": [
    "print(\"\"\"\n",
    "첫번째 문장\n",
    "두번째 문장\n",
    "세번째 문장\n",
    "\"\"\")"
   ]
  },
  {
   "cell_type": "code",
   "execution_count": 53,
   "metadata": {},
   "outputs": [
    {
     "name": "stdout",
     "output_type": "stream",
     "text": [
      "안녕하세요\n",
      " 그리고 \t 반갑습니다\n",
      "123456789\r",
      "abcd\n",
      "1$는 1200\\입니다.\n",
      "123\u0000 456\n"
     ]
    }
   ],
   "source": [
    "print('안녕하세요\\n 그리고 \\t 반갑습니다')\n",
    "print('123456789\\rabcd')\n",
    "print('1$는 1200\\\\입니다.')\n",
    "print('123\\0 456')"
   ]
  },
  {
   "cell_type": "code",
   "execution_count": 59,
   "metadata": {},
   "outputs": [
    {
     "name": "stdout",
     "output_type": "stream",
     "text": [
      "내용을 출력해보자\n",
      "옆으로 붙여라\n"
     ]
    }
   ],
   "source": [
    "print('내용을 출력해보자', end='\\n')\n",
    "print('옆으로 붙여라')"
   ]
  },
  {
   "cell_type": "code",
   "execution_count": 64,
   "metadata": {},
   "outputs": [
    {
     "name": "stdout",
     "output_type": "stream",
     "text": [
      "다른것도 가능합니다!!!!!!!!!!!!!!!이것도????????????????기본으로는 print는 개행\"/n\"을 한다.\n"
     ]
    }
   ],
   "source": [
    "print('다른것도 가능합니다',end='!!!!!!!!!!!!!!!')\n",
    "print('이것도',end = '????????????????')\n",
    "print('기본으로는 print는 개행\"/n\"을 한다.')"
   ]
  },
  {
   "cell_type": "code",
   "execution_count": 73,
   "metadata": {},
   "outputs": [
    {
     "name": "stdout",
     "output_type": "stream",
     "text": [
      "반갑습니다hoyeon\n"
     ]
    },
    {
     "data": {
      "text/plain": [
       "'반갑습니다. 제 이름은hoyeon 입니다'"
      ]
     },
     "execution_count": 73,
     "metadata": {},
     "output_type": "execute_result"
    }
   ],
   "source": [
    "name = 'hoyeon'\n",
    "print('반갑습니다%s'%name)\n",
    "'반갑습니다{}{}{}'.format(name, name, name)\n",
    "f'반갑습니다. 제 이름은{name} 입니다'"
   ]
  },
  {
   "cell_type": "code",
   "execution_count": 79,
   "metadata": {},
   "outputs": [
    {
     "name": "stdout",
     "output_type": "stream",
     "text": [
      "2019-07-25 16:31:40.148847\n",
      "오늘은 2019년 31월 25일 입니다.\n"
     ]
    },
    {
     "data": {
      "text/plain": [
       "'원주율은 3.14입니다. 반지름이 2일때 원의 넓이는 12.56입니다.'"
      ]
     },
     "execution_count": 79,
     "metadata": {},
     "output_type": "execute_result"
    }
   ],
   "source": [
    "import datetime\n",
    "today = datetime.datetime.now()\n",
    "print(today)\n",
    "print(f'오늘은 {today:%Y}년 {today:%M}월 {today:%d}일 입니다.')\n",
    "pi = 3.14\n",
    "f'원주율은 {pi}입니다. 반지름이 2일때 원의 넓이는 {pi*2*2}입니다.'"
   ]
  },
  {
   "cell_type": "code",
   "execution_count": 82,
   "metadata": {},
   "outputs": [
    {
     "data": {
      "text/plain": [
       "10715086071862673209484250490600018105614048117055336074437503883703510511249361224931983788156958581275946729175531468251871452856923140435984577574698574803934567774824230985421074605062371141877954182153046474983581941267398767559165543946077062914571196477686542167660429831652624386837205668069376"
      ]
     },
     "execution_count": 82,
     "metadata": {},
     "output_type": "execute_result"
    }
   ],
   "source": [
    "2**1000"
   ]
  },
  {
   "cell_type": "code",
   "execution_count": 88,
   "metadata": {},
   "outputs": [
    {
     "name": "stdout",
     "output_type": "stream",
     "text": [
      "2.5\n",
      "2\n",
      "4\n"
     ]
    }
   ],
   "source": [
    "print(5/2)\n",
    "print(5//2)\n",
    "print(100%8)"
   ]
  },
  {
   "cell_type": "code",
   "execution_count": 90,
   "metadata": {},
   "outputs": [
    {
     "name": "stdout",
     "output_type": "stream",
     "text": [
      "(2, 1)\n"
     ]
    }
   ],
   "source": [
    "print(divmod(5,2))"
   ]
  },
  {
   "cell_type": "code",
   "execution_count": 92,
   "metadata": {},
   "outputs": [
    {
     "name": "stdout",
     "output_type": "stream",
     "text": [
      "-3.14\n"
     ]
    }
   ],
   "source": [
    "print(-pi)"
   ]
  },
  {
   "cell_type": "code",
   "execution_count": 99,
   "metadata": {},
   "outputs": [
    {
     "data": {
      "text/plain": [
       "True"
      ]
     },
     "execution_count": 99,
     "metadata": {},
     "output_type": "execute_result"
    }
   ],
   "source": [
    "3>6\n",
    "3!=4\n",
    "3.0==3\n",
    "'hi'=='hi'"
   ]
  },
  {
   "cell_type": "code",
   "execution_count": 107,
   "metadata": {},
   "outputs": [
    {
     "data": {
      "text/plain": [
       "False"
      ]
     },
     "execution_count": 107,
     "metadata": {},
     "output_type": "execute_result"
    }
   ],
   "source": [
    "True and True\n",
    "True and False\n",
    "False and True\n",
    "True or False\n",
    "not True\n",
    "not '안녕하세요'"
   ]
  },
  {
   "cell_type": "code",
   "execution_count": 110,
   "metadata": {},
   "outputs": [
    {
     "ename": "SyntaxError",
     "evalue": "invalid syntax (<ipython-input-110-6faeeb9f605d>, line 13)",
     "output_type": "error",
     "traceback": [
      "\u001b[1;36m  File \u001b[1;32m\"<ipython-input-110-6faeeb9f605d>\"\u001b[1;36m, line \u001b[1;32m13\u001b[0m\n\u001b[1;33m    a**=\u001b[0m\n\u001b[1;37m        ^\u001b[0m\n\u001b[1;31mSyntaxError\u001b[0m\u001b[1;31m:\u001b[0m invalid syntax\n"
     ]
    }
   ],
   "source": [
    "a+=b\n",
    "a= a + b\n",
    "a-=b\n",
    "a= a-b\n",
    "a*=b\n",
    "a = a*b\n",
    "a/=b\n",
    "a= a/b\n",
    "a//= b\n",
    "a = a//b\n",
    "a%=b\n",
    "a = a%b\n",
    "a**=\n",
    "a = a**b"
   ]
  },
  {
   "cell_type": "code",
   "execution_count": 113,
   "metadata": {},
   "outputs": [
    {
     "name": "stdout",
     "output_type": "stream",
     "text": [
      "0 hello\n",
      "1 hello\n",
      "2 hello\n",
      "3 hello\n",
      "4 hello\n"
     ]
    },
    {
     "data": {
      "text/plain": [
       "5"
      ]
     },
     "execution_count": 113,
     "metadata": {},
     "output_type": "execute_result"
    }
   ],
   "source": [
    "cnt = 0\n",
    "while cnt<5 :\n",
    "    print(cnt, 'hello')\n",
    "    cnt += 1\n",
    "cnt"
   ]
  },
  {
   "cell_type": "code",
   "execution_count": 117,
   "metadata": {},
   "outputs": [
    {
     "data": {
      "text/plain": [
       "'bye'"
      ]
     },
     "execution_count": 117,
     "metadata": {},
     "output_type": "execute_result"
    }
   ],
   "source": [
    "'' + 'b' + 'y' + 'e'"
   ]
  },
  {
   "cell_type": "code",
   "execution_count": 122,
   "metadata": {},
   "outputs": [
    {
     "data": {
      "text/plain": [
       "['조치원짬뽕', '짜장면', '짬뽕', '1', '2', '3']"
      ]
     },
     "execution_count": 122,
     "metadata": {},
     "output_type": "execute_result"
    }
   ],
   "source": [
    "food = ['조치원짬뽕', '짜장면', '짬뽕']\n",
    "menu = ['1', '2', '3']\n",
    "food + menu"
   ]
  },
  {
   "cell_type": "code",
   "execution_count": 123,
   "metadata": {},
   "outputs": [
    {
     "data": {
      "text/plain": [
       "True"
      ]
     },
     "execution_count": 123,
     "metadata": {},
     "output_type": "execute_result"
    }
   ],
   "source": [
    "'짜장면' in food"
   ]
  },
  {
   "cell_type": "code",
   "execution_count": 125,
   "metadata": {},
   "outputs": [
    {
     "data": {
      "text/plain": [
       "True"
      ]
     },
     "execution_count": 125,
     "metadata": {},
     "output_type": "execute_result"
    }
   ],
   "source": [
    "'1' in menu"
   ]
  },
  {
   "cell_type": "code",
   "execution_count": 126,
   "metadata": {},
   "outputs": [
    {
     "data": {
      "text/plain": [
       "True"
      ]
     },
     "execution_count": 126,
     "metadata": {},
     "output_type": "execute_result"
    }
   ],
   "source": [
    "30 in range(1,50)"
   ]
  },
  {
   "cell_type": "code",
   "execution_count": 129,
   "metadata": {},
   "outputs": [
    {
     "data": {
      "text/plain": [
       "True"
      ]
     },
     "execution_count": 129,
     "metadata": {},
     "output_type": "execute_result"
    }
   ],
   "source": [
    "a = 5\n",
    "b = 5\n",
    "a is b"
   ]
  },
  {
   "cell_type": "code",
   "execution_count": 143,
   "metadata": {},
   "outputs": [
    {
     "data": {
      "text/plain": [
       "'olleh'"
      ]
     },
     "execution_count": 143,
     "metadata": {},
     "output_type": "execute_result"
    }
   ],
   "source": [
    "'hello'[::-1]"
   ]
  },
  {
   "cell_type": "markdown",
   "metadata": {},
   "source": [
    "## 연산자 우선순위\n",
    "0. ()\n",
    "1. slicing\n",
    "2. Indexing\n",
    "3. 제곱연산자**\n",
    "4. 단항연산자 + -(부호)\n",
    "5. 산술연산자 * / %\n",
    "6. 산술연산자 + -\n",
    "7. 비교연산자 in is\n",
    "8. not\n",
    "9. and\n",
    "10. or"
   ]
  },
  {
   "cell_type": "code",
   "execution_count": 147,
   "metadata": {},
   "outputs": [
    {
     "name": "stdout",
     "output_type": "stream",
     "text": [
      "[0, 0, 0, 0, 0, 0]\n",
      "hihihihihihihihihihi\n"
     ]
    }
   ],
   "source": [
    "l = [0] * 6\n",
    "print(l)\n",
    "a = 'hi' * 10\n",
    "print(a)"
   ]
  },
  {
   "cell_type": "code",
   "execution_count": 154,
   "metadata": {},
   "outputs": [
    {
     "data": {
      "text/plain": [
       "['서울', '대전', '광주']"
      ]
     },
     "execution_count": 154,
     "metadata": {},
     "output_type": "execute_result"
    }
   ],
   "source": [
    "location = ['서울', '대전', '광주', '구미']\n",
    "location[:3]"
   ]
  },
  {
   "cell_type": "code",
   "execution_count": 167,
   "metadata": {},
   "outputs": [
    {
     "name": "stdout",
     "output_type": "stream",
     "text": [
      "[0, 1, 2, 3, 4, 5, 6, 7, 8, 9, 10, 11, 12, 13, 14, 15, 16, 17, 18, 19, 20, 21, 22, 23, 24, 25, 26, 27, 28, 29, 30]\n"
     ]
    },
    {
     "data": {
      "text/plain": [
       "[0, 3, 6, 9, 12, 15, 18, 21, 24, 27]"
      ]
     },
     "execution_count": 167,
     "metadata": {},
     "output_type": "execute_result"
    }
   ],
   "source": [
    "numbers = list(range(31))\n",
    "print(numbers)\n",
    "numbers[0:30:3]"
   ]
  },
  {
   "cell_type": "code",
   "execution_count": 172,
   "metadata": {},
   "outputs": [
    {
     "data": {
      "text/plain": [
       "30"
      ]
     },
     "execution_count": 172,
     "metadata": {},
     "output_type": "execute_result"
    }
   ],
   "source": [
    "len(numbers)\n",
    "min(numbers)\n",
    "max(numbers)"
   ]
  },
  {
   "cell_type": "code",
   "execution_count": 175,
   "metadata": {},
   "outputs": [
    {
     "data": {
      "text/plain": [
       "1"
      ]
     },
     "execution_count": 175,
     "metadata": {},
     "output_type": "execute_result"
    }
   ],
   "source": [
    "numbers = [1,2,3,3]\n",
    "numbers.count(1)"
   ]
  },
  {
   "cell_type": "code",
   "execution_count": 184,
   "metadata": {},
   "outputs": [
    {
     "name": "stdout",
     "output_type": "stream",
     "text": [
      "{1, 2, 3}\n",
      "[1, 2, 3]\n"
     ]
    }
   ],
   "source": [
    "a = [1,2,3,3,3,3]\n",
    "b = {3,6,9}\n",
    "print(my_list) # set은 중복이 없다.\n",
    "my_list = set(a)\n",
    "print(list(my_list))"
   ]
  },
  {
   "cell_type": "code",
   "execution_count": 188,
   "metadata": {},
   "outputs": [
    {
     "data": {
      "text/plain": [
       "dict_items([('서울', '02'), ('경기', '031'), ('인천', '032')])"
      ]
     },
     "execution_count": 188,
     "metadata": {},
     "output_type": "execute_result"
    }
   ],
   "source": [
    "phone_book = {\n",
    "    \"서울\": \"02\",\n",
    "    \"경기\": \"031\",\n",
    "    \"인천\": \"032\"\n",
    "}\n",
    "phone_book[\"서울\"]\n",
    "#dictionary['key'] = 'value'\n",
    "phone_book.keys()\n",
    "phone_book.values()\n",
    "phone_book.items()"
   ]
  },
  {
   "cell_type": "code",
   "execution_count": 193,
   "metadata": {},
   "outputs": [
    {
     "name": "stdout",
     "output_type": "stream",
     "text": [
      "6789\n",
      "30\n"
     ]
    }
   ],
   "source": [
    "a = input()\n",
    "sum = 0\n",
    "for i in a:\n",
    "    num = int(i)\n",
    "    sum += num\n",
    "print(sum)\n",
    "    "
   ]
  },
  {
   "cell_type": "code",
   "execution_count": 201,
   "metadata": {},
   "outputs": [
    {
     "name": "stdout",
     "output_type": "stream",
     "text": [
      "3 2\n",
      "A\n"
     ]
    }
   ],
   "source": [
    "a = input().split(' ')\n",
    "if a == ['1', '2']:\n",
    "    print('B')\n",
    "elif a == ['2', '3']:\n",
    "    print('B')\n",
    "elif a == ['3', '1']:\n",
    "    print('B')\n",
    "else:\n",
    "    print('A')\n",
    "    "
   ]
  },
  {
   "cell_type": "code",
   "execution_count": 215,
   "metadata": {},
   "outputs": [
    {
     "name": "stdout",
     "output_type": "stream",
     "text": [
      "3\n",
      "###"
     ]
    }
   ],
   "source": [
    "num = int(input())\n",
    "for i in range(num):\n",
    "    print('#',end=\"\")"
   ]
  },
  {
   "cell_type": "code",
   "execution_count": 219,
   "metadata": {},
   "outputs": [
    {
     "name": "stdout",
     "output_type": "stream",
     "text": [
      "headline = input() print(headline.upper())\n",
      "HEADLINE = INPUT() PRINT(HEADLINE.UPPER())\n"
     ]
    }
   ],
   "source": [
    "headline = input()\n",
    "print(headline.upper())"
   ]
  },
  {
   "cell_type": "code",
   "execution_count": 229,
   "metadata": {},
   "outputs": [
    {
     "name": "stdout",
     "output_type": "stream",
     "text": [
      "100 3\n",
      "103\n",
      "97\n",
      "300\n",
      "33\n"
     ]
    }
   ],
   "source": [
    "natural_num = input().split(' ')\n",
    "print(int(natural_num[0]) + int(natural_num[1]))\n",
    "print(int(natural_num[0]) - int(natural_num[1]))\n",
    "print(int(natural_num[0]) * int(natural_num[1]))\n",
    "print(int(natural_num[0]) // int(natural_num[1]))"
   ]
  },
  {
   "cell_type": "code",
   "execution_count": 235,
   "metadata": {},
   "outputs": [
    {
     "name": "stdout",
     "output_type": "stream",
     "text": [
      "100\n",
      "5050\n"
     ]
    }
   ],
   "source": [
    "num = int(input())\n",
    "sum = 0\n",
    "for i in range(1,num+1):\n",
    "    sum += i\n",
    "print(sum)"
   ]
  },
  {
   "cell_type": "code",
   "execution_count": 238,
   "metadata": {},
   "outputs": [
    {
     "name": "stdout",
     "output_type": "stream",
     "text": [
      "845 168\n",
      "678\n"
     ]
    }
   ],
   "source": [
    "st = input().split(' ')\n",
    "print(int(st[0]) - int(st[1]) + 1)"
   ]
  },
  {
   "cell_type": "code",
   "execution_count": 254,
   "metadata": {},
   "outputs": [
    {
     "name": "stdout",
     "output_type": "stream",
     "text": [
      "ABCDEFGHIJKLMNOPQRSTUVWXYZ\n",
      "1 2 3 4 5 6 7 8 9 10 11 12 13 14 15 16 17 18 19 20 21 22 23 24 25 26 "
     ]
    }
   ],
   "source": [
    "alpa = input()\n",
    "for i in list(alpa):\n",
    "    print(ord(i)-64,end=' ')"
   ]
  },
  {
   "cell_type": "code",
   "execution_count": 290,
   "metadata": {},
   "outputs": [
    {
     "name": "stdout",
     "output_type": "stream",
     "text": [
      "1\n",
      "1 2 5 6\n",
      "1\n"
     ]
    }
   ],
   "source": [
    "a = int(input())\n",
    "\n",
    "for i in range(1, a+1):\n",
    "    b = input()\n",
    "    c = b.split(' ')\n",
    "    sum = 0\n",
    "    for j in c:\n",
    "        d = int(j)\n",
    "        if d % 2:\n",
    "            sum = sum + d\n",
    "print(c[a//2])"
   ]
  },
  {
   "cell_type": "code",
   "execution_count": null,
   "metadata": {},
   "outputs": [],
   "source": [
    "T = int(input())\n",
    "\n",
    "for i in range(1, T+1):\n",
    "    number = input()\n",
    "    num = number.split(' ')\n",
    "    year = number[:4]\n",
    "    month = number[4:6]\n",
    "    day = number[6:8]\n",
    "    '#{} {}/{}/{}'.format(i, year, month, day)"
   ]
  },
  {
   "cell_type": "code",
   "execution_count": 288,
   "metadata": {},
   "outputs": [
    {
     "name": "stdout",
     "output_type": "stream",
     "text": [
      "199\n",
      "85 72 38 80 69 65 68 96 22 49 67 51 61 63 87 66 24 80 83 71 60 64 52 90 60 49 31 23 99 94 11 25 24 51 15 13 39 67 97 19 76 12 33 99 18 92 35 74 0 95 71 39 33 39 32 37 45 57 71 95 5 71 24 86 8 51 54 74 24 75 70 33 63 29 99 59 94 52 13 35 99 46 57 71 23 17 3 94 48 77 18 83 11 83 25 59 62 2 78 86 7 94 65 80 32 39 84 60 65 72 61 58 84 8 72 12 19 47 49 49 59 71 52 34 22 21 20 92 33 80 39 74 9 28 97 100 93 29 25 4 66 79 81 98 21 91 62 82 4 59 100 34 1 51 80 92 69 77 39 38 97 51 34 35 19 22 1 67 9 90 31 82 11 51 84 78 70 74 42 100 88 53 80 57 62 32 51 48 63 92 46 4 61 31 98 69 52 88 20\n",
      "58\n"
     ]
    }
   ],
   "source": [
    "number = int(input())\n",
    "number_list = input()\n",
    "num = list(map(int, number_list.split()))\n",
    "num.sort()\n",
    "print(num [number//2])"
   ]
  },
  {
   "cell_type": "code",
   "execution_count": 306,
   "metadata": {},
   "outputs": [
    {
     "name": "stdout",
     "output_type": "stream",
     "text": [
      "20190725\n",
      "<class 'str'>\n",
      "2019\n",
      "07\n",
      "25\n",
      "2019/07,25\n"
     ]
    }
   ],
   "source": [
    "number = input()\n",
    "print(type(number))\n",
    "year = number[:4]\n",
    "month = number[4:6]\n",
    "day = number[6:8]\n",
    "print(year)\n",
    "print(month)\n",
    "print(day)\n",
    "\n",
    "for i in range(1,T+1):\n",
    "    if:\n",
    "        print(f'#{i} {year}/{month}/{day}')\n",
    "    else:\n",
    "        print('-1')"
   ]
  }
 ],
 "metadata": {
  "kernelspec": {
   "display_name": "Python 3",
   "language": "python",
   "name": "python3"
  },
  "language_info": {
   "codemirror_mode": {
    "name": "ipython",
    "version": 3
   },
   "file_extension": ".py",
   "mimetype": "text/x-python",
   "name": "python",
   "nbconvert_exporter": "python",
   "pygments_lexer": "ipython3",
   "version": "3.7.3"
  }
 },
 "nbformat": 4,
 "nbformat_minor": 2
}
