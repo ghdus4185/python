{
 "cells": [
  {
   "cell_type": "markdown",
   "metadata": {},
   "source": [
    "# 모든코인 상승장? 하락장?\n",
    "> 최고가와 최저가의 차이를 변동폭으로 정의할 때 (시가 + 변동폭)이 최고가 보다 높을 경우 \"상승장\", 그렇지 않은 경우 \"하락장\" 문자열을 출력하라.\n",
    "\n",
    "\n",
    "|Key Name|Description|\n",
    "|------|---|\n",
    "|opeing_price|최근 24시간 내 시작 거래금액|\n",
    "|closing_price|최근 24시간 내 마지막 거래금액|\n",
    "|min_price|최근 24시간 내 최저 거래금액|\n",
    "|max_price|최근 24시간 내 최고 거래금액|"
   ]
  },
  {
   "cell_type": "code",
   "execution_count": 50,
   "metadata": {},
   "outputs": [
    {
     "name": "stdout",
     "output_type": "stream",
     "text": [
      "BTC은 지금 상승장\n",
      "ETH은 지금 상승장\n",
      "DASH은 지금 상승장\n",
      "LTC은 지금 상승장\n",
      "ETC은 지금 상승장\n",
      "XRP은 지금 상승장\n",
      "BCH은 지금 상승장\n",
      "XMR은 지금 상승장\n",
      "ZEC은 지금 상승장\n",
      "QTUM은 지금 상승장\n",
      "BTG은 지금 상승장\n",
      "EOS은 지금 상승장\n",
      "ICX은 지금 상승장\n",
      "VET은 지금 하락장\n",
      "TRX은 지금 상승장\n",
      "ELF은 지금 상승장\n",
      "MITH은 지금 상승장\n",
      "MCO은 지금 상승장\n",
      "OMG은 지금 상승장\n",
      "KNC은 지금 상승장\n",
      "GNT은 지금 상승장\n",
      "ZIL은 지금 상승장\n",
      "ETHOS은 지금 상승장\n",
      "PAY은 지금 하락장\n",
      "WAX은 지금 상승장\n",
      "POWR은 지금 상승장\n",
      "LRC은 지금 상승장\n",
      "GTO은 지금 상승장\n",
      "STEEM은 지금 상승장\n",
      "STRAT은 지금 상승장\n",
      "ZRX은 지금 상승장\n",
      "REP은 지금 상승장\n",
      "AE은 지금 상승장\n",
      "XEM은 지금 상승장\n",
      "SNT은 지금 상승장\n",
      "ADA은 지금 상승장\n",
      "PPT은 지금 상승장\n",
      "CTXC은 지금 상승장\n",
      "CMT은 지금 상승장\n",
      "THETA은 지금 하락장\n",
      "WTC은 지금 상승장\n",
      "ITC은 지금 상승장\n",
      "TRUE은 지금 상승장\n",
      "ABT은 지금 상승장\n",
      "RNT은 지금 상승장\n",
      "PLY은 지금 상승장\n",
      "WAVES은 지금 상승장\n",
      "LINK은 지금 상승장\n",
      "ENJ은 지금 상승장\n",
      "PST은 지금 상승장\n",
      "SALT은 지금 상승장\n",
      "RDN은 지금 상승장\n",
      "LOOM은 지금 상승장\n",
      "PIVX은 지금 상승장\n",
      "INS은 지금 상승장\n",
      "BCD은 지금 상승장\n",
      "BZNT은 지금 상승장\n",
      "XLM은 지금 상승장\n",
      "OCN은 지금 상승장\n",
      "BSV은 지금 상승장\n",
      "TMTG은 지금 하락장\n",
      "BAT은 지금 상승장\n",
      "WET은 지금 상승장\n",
      "XVG은 지금 상승장\n",
      "IOST은 지금 상승장\n",
      "POLY은 지금 상승장\n",
      "HC은 지금 상승장\n",
      "ROM은 지금 하락장\n",
      "AMO은 지금 상승장\n",
      "ETZ은 지금 상승장\n",
      "ARN은 지금 상승장\n",
      "APIS은 지금 상승장\n",
      "MTL은 지금 상승장\n",
      "DACC은 지금 상승장\n",
      "DAC은 지금 상승장\n",
      "BHP은 지금 상승장\n",
      "BTT은 지금 상승장\n",
      "HDAC은 지금 상승장\n",
      "NPXS은 지금 상승장\n",
      "AUTO은 지금 상승장\n",
      "GXC은 지금 상승장\n",
      "ORBS은 지금 상승장\n",
      "VALOR은 지금 상승장\n",
      "CON은 지금 상승장\n",
      "ANKR은 지금 상승장\n",
      "MIX은 지금 상승장\n",
      "HYC은 지금 상승장\n",
      "LBA은 지금 상승장\n"
     ]
    }
   ],
   "source": [
    "import requests\n",
    "\n",
    "url = \"https://api.bithumb.com/public/ticker/all\"\n",
    "data = requests.get(url).json()['data']\n",
    "\n",
    "for coin_name in data.keys():\n",
    "    if coin_name == 'date':\n",
    "        break\n",
    "\n",
    "    start_price = float(data[coin_name]['opening_price'])\n",
    "    maximum = float(data[coin_name]['max_price'])\n",
    "    minimum = float(data[coin_name]['min_price'])\n",
    "    coin_range = maximum - minimum\n",
    "\n",
    "    if start_price + coin_range > maximum:\n",
    "        print(f'{coin_name}은 지금 상승장')\n",
    "    else:\n",
    "        print(f'{coin_name}은 지금 하락장')\n"
   ]
  },
  {
   "cell_type": "markdown",
   "metadata": {},
   "source": [
    "# 평균점수\n",
    "> 다음 딕셔너리에서 평균 점수를 출력하라\n"
   ]
  },
  {
   "cell_type": "code",
   "execution_count": 58,
   "metadata": {},
   "outputs": [
    {
     "name": "stdout",
     "output_type": "stream",
     "text": [
      "83.25\n"
     ]
    }
   ],
   "source": [
    "student = {'python':80, 'algorithm':78, 'django':95, 'flask':80}\n",
    "# total = 0\n",
    "# for num in student.values():\n",
    "#     total = total + num\n",
    "# print(total)\n",
    "# test_avg = total / 4\n",
    "# print(test_avg)\n",
    "result = 0\n",
    "for score in student.values():\n",
    "    result += score\n",
    "print(result/len(student))\n"
   ]
  },
  {
   "cell_type": "markdown",
   "metadata": {},
   "source": [
    "# 혈액형\n",
    "> 학생들의 혈액형(A,B,O,AB)에 대한 데이터가 리스트에 들어있다. 각 혈액형이 몇명인지 딕셔너리를 만들어 출력하라"
   ]
  },
  {
   "cell_type": "code",
   "execution_count": 64,
   "metadata": {},
   "outputs": [
    {
     "name": "stdout",
     "output_type": "stream",
     "text": [
      "{'A': 5, 'B': 2, 'O': 4, 'AB': 3}\n"
     ]
    }
   ],
   "source": [
    "blood = ['A','A','B','O','A','B','A','AB','AB','O','A','O','AB','O']\n",
    "# blood_dict = { 'A': 0, 'B': 0, 'AB': 0, 'O': 0} \n",
    "# for key in blood:\n",
    "#     blood_dic[key] += 1\n",
    "# print(\"학생 혈액형\")\n",
    "# for blood_label, num_people in blood_dic.items():\n",
    "#     print(f\"{blood_label:>2} : {num_people}\")\n",
    "\n",
    "#if 문\n",
    "# a = 0\n",
    "# b = 0\n",
    "# ab = 0\n",
    "# o = 0\n",
    "# for k in blood:\n",
    "# if k == 'A' :\n",
    "#     a += 1\n",
    "# elif k == 'B':\n",
    "#     b += 1\n",
    "# elif AB\n",
    "#     ab +=1\n",
    "# else :\n",
    "#     o +=1\n",
    "# type = {'A': ,'B': ,'AB': ,'O': }\n",
    "\n",
    "# 빈 딕셔너리에 카운트하기\n",
    "blood_dict = {}\n",
    "for b in blood:\n",
    "    if b in blood_dict:\n",
    "        blood_dict[b] += 1\n",
    "    else:\n",
    "        blood_dict[b] = 1\n",
    "print(blood_dict)\n",
    "\n",
    "    "
   ]
  },
  {
   "cell_type": "markdown",
   "metadata": {},
   "source": [
    "# UBD\n",
    "> movies는 영화제목이 key로 누적관객수가 value인 딕셔너리이다. \n",
    ">\n",
    "> 자전차왕 엄복동의 누적관객수는 172212명이고 172212명을 1UBD라고 할때 80UBD를 넘지 못하는 영화를 출력하라."
   ]
  },
  {
   "cell_type": "code",
   "execution_count": 46,
   "metadata": {},
   "outputs": [
    {
     "name": "stdout",
     "output_type": "stream",
     "text": [
      "7번방의선물\n",
      "괴물\n",
      "도둑들\n",
      "베테랑\n",
      "아바타\n"
     ]
    }
   ],
   "source": [
    "movies = {\n",
    "    \"7번방의선물\":12811206,\n",
    "    \"괴물\":13019740,\n",
    "    \"국제시장\":14257115,\n",
    "    \"극한직업\":16261018,\n",
    "    \"도둑들\":12983330,\n",
    "    \"명량\":17613682,\n",
    "    \"베테랑\":13414009,\n",
    "    \"신과함께-죄와벌\":14410754,\n",
    "    \"아바타\":13624328,\n",
    "    \"어벤져스:엔드게임\":13901423,\n",
    "}\n",
    "UBD = 172212\n",
    "for name, watcher in movies.items():\n",
    "    if watcher < 80 * UBD:\n",
    "        print(name)"
   ]
  }
 ],
 "metadata": {
  "kernelspec": {
   "display_name": "Python 3",
   "language": "python",
   "name": "python3"
  },
  "language_info": {
   "codemirror_mode": {
    "name": "ipython",
    "version": 3
   },
   "file_extension": ".py",
   "mimetype": "text/x-python",
   "name": "python",
   "nbconvert_exporter": "python",
   "pygments_lexer": "ipython3",
   "version": "3.7.3"
  }
 },
 "nbformat": 4,
 "nbformat_minor": 2
}
